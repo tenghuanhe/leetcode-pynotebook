{
 "cells": [
  {
   "cell_type": "code",
   "execution_count": 1,
   "metadata": {
    "collapsed": true
   },
   "outputs": [],
   "source": [
    "import itertools"
   ]
  },
  {
   "cell_type": "code",
   "execution_count": 2,
   "metadata": {
    "collapsed": true
   },
   "outputs": [],
   "source": [
    "def tuple_to_string(t):\n",
    "    return ''.join(t)"
   ]
  },
  {
   "cell_type": "code",
   "execution_count": 4,
   "metadata": {
    "collapsed": false
   },
   "outputs": [],
   "source": [
    "def perm_paren(n):\n",
    "    l = ['(', ')'] * n\n",
    "    return list(map(tuple_to_string, set(itertools.permutations(l))))"
   ]
  },
  {
   "cell_type": "code",
   "execution_count": 11,
   "metadata": {
    "collapsed": false
   },
   "outputs": [
    {
     "data": {
      "text/plain": [
       "924"
      ]
     },
     "execution_count": 11,
     "metadata": {},
     "output_type": "execute_result"
    }
   ],
   "source": [
    "len(perm_paren(6))"
   ]
  },
  {
   "cell_type": "code",
   "execution_count": 23,
   "metadata": {
    "collapsed": false
   },
   "outputs": [],
   "source": [
    "res = []\n",
    "for x in res:\n",
    "    print x"
   ]
  },
  {
   "cell_type": "code",
   "execution_count": 19,
   "metadata": {
    "collapsed": true
   },
   "outputs": [],
   "source": [
    "def generateParenthesis(n):\n",
    "    if n == 0:\n",
    "        return []\n",
    "    elif n == 1:\n",
    "        return ['()']\n",
    "    else:\n",
    "        res = []\n",
    "        for x in generateParenthesis(n - 1):\n",
    "            if x == '()' * (n - 1):\n",
    "                res.append('()' * n)\n",
    "                res.append('(' + x + ')')\n",
    "            else:\n",
    "                res.append('()' + x)\n",
    "                res.append(x + '()')\n",
    "                res.append('(' + x + ')')\n",
    "        return res\n",
    "                    "
   ]
  },
  {
   "cell_type": "code",
   "execution_count": 22,
   "metadata": {
    "collapsed": false
   },
   "outputs": [
    {
     "data": {
      "text/plain": [
       "['()()()()',\n",
       " '(()()())',\n",
       " '()(()())',\n",
       " '(()())()',\n",
       " '((()()))',\n",
       " '()()(())',\n",
       " '()(())()',\n",
       " '(()(()))',\n",
       " '()(())()',\n",
       " '(())()()',\n",
       " '((())())',\n",
       " '()((()))',\n",
       " '((()))()',\n",
       " '(((())))']"
      ]
     },
     "execution_count": 22,
     "metadata": {},
     "output_type": "execute_result"
    }
   ],
   "source": [
    "generateParenthesis(4)"
   ]
  },
  {
   "cell_type": "code",
   "execution_count": null,
   "metadata": {
    "collapsed": true
   },
   "outputs": [],
   "source": []
  }
 ],
 "metadata": {
  "kernelspec": {
   "display_name": "Python 2",
   "language": "python",
   "name": "python2"
  },
  "language_info": {
   "codemirror_mode": {
    "name": "ipython",
    "version": 2
   },
   "file_extension": ".py",
   "mimetype": "text/x-python",
   "name": "python",
   "nbconvert_exporter": "python",
   "pygments_lexer": "ipython2",
   "version": "2.7.9"
  }
 },
 "nbformat": 4,
 "nbformat_minor": 2
}
