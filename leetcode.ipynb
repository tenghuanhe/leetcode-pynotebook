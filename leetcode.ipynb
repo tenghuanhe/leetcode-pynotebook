{
 "cells": [
  {
   "cell_type": "code",
   "execution_count": 1,
   "metadata": {
    "collapsed": true
   },
   "outputs": [],
   "source": [
    "import itertools"
   ]
  },
  {
   "cell_type": "code",
   "execution_count": 2,
   "metadata": {
    "collapsed": true
   },
   "outputs": [],
   "source": [
    "def tuple_to_string(t):\n",
    "    return ''.join(t)"
   ]
  },
  {
   "cell_type": "code",
   "execution_count": 4,
   "metadata": {
    "collapsed": false
   },
   "outputs": [],
   "source": [
    "def perm_paren(n):\n",
    "    l = ['(', ')'] * n\n",
    "    return list(map(tuple_to_string, set(itertools.permutations(l))))"
   ]
  },
  {
   "cell_type": "code",
   "execution_count": 11,
   "metadata": {
    "collapsed": false
   },
   "outputs": [
    {
     "data": {
      "text/plain": [
       "924"
      ]
     },
     "execution_count": 11,
     "metadata": {},
     "output_type": "execute_result"
    }
   ],
   "source": [
    "len(perm_paren(6))"
   ]
  },
  {
   "cell_type": "code",
   "execution_count": 23,
   "metadata": {
    "collapsed": false
   },
   "outputs": [],
   "source": [
    "res = []\n",
    "for x in res:\n",
    "    print x"
   ]
  },
  {
   "cell_type": "code",
   "execution_count": 19,
   "metadata": {
    "collapsed": true
   },
   "outputs": [],
   "source": [
    "def generateParenthesis(n):\n",
    "    if n == 0:\n",
    "        return []\n",
    "    elif n == 1:\n",
    "        return ['()']\n",
    "    else:\n",
    "        res = []\n",
    "        for x in generateParenthesis(n - 1):\n",
    "            if x == '()' * (n - 1):\n",
    "                res.append('()' * n)\n",
    "                res.append('(' + x + ')')\n",
    "            else:\n",
    "                res.append('()' + x)\n",
    "                res.append(x + '()')\n",
    "                res.append('(' + x + ')')\n",
    "        return res\n",
    "                    "
   ]
  },
  {
   "cell_type": "code",
   "execution_count": 22,
   "metadata": {
    "collapsed": false
   },
   "outputs": [
    {
     "data": {
      "text/plain": [
       "['()()()()',\n",
       " '(()()())',\n",
       " '()(()())',\n",
       " '(()())()',\n",
       " '((()()))',\n",
       " '()()(())',\n",
       " '()(())()',\n",
       " '(()(()))',\n",
       " '()(())()',\n",
       " '(())()()',\n",
       " '((())())',\n",
       " '()((()))',\n",
       " '((()))()',\n",
       " '(((())))']"
      ]
     },
     "execution_count": 22,
     "metadata": {},
     "output_type": "execute_result"
    }
   ],
   "source": [
    "generateParenthesis(4)"
   ]
  },
  {
   "cell_type": "code",
   "execution_count": 1,
   "metadata": {
    "collapsed": true
   },
   "outputs": [],
   "source": [
    "class Solution(object):\n",
    "    def generateQueen(self, n):\n",
    "        res = []\n",
    "        self.dfs(0, n, res, [])\n",
    "        res2 = self.arr2queen(res, n)\n",
    "        return res2\n",
    "    \n",
    "    def dfs(self, row, n, res, past):\n",
    "        if row == n:\n",
    "            res.append(past)\n",
    "            return\n",
    "        for i in range(n):\n",
    "            ok = True # Test if a queen can be placed at (row, i)\n",
    "            for j in range(row):\n",
    "                p = past[j] # A queen has been placed at (j, p)\n",
    "                if row == j or i == p or abs(row - j) == abs(i - p): ok = False; break\n",
    "            if ok:\n",
    "                curr = past[:]; curr.append(i); self.dfs(row + 1, n, res, curr)\n",
    "    \n",
    "    def arr2queen(self, arr, n):\n",
    "        qs = []\n",
    "        for l in arr:\n",
    "            ls = []\n",
    "            for p in l: ls.append('.' * p + 'Q' + '.' * (n - p - 1))\n",
    "            qs.append(ls)\n",
    "        return qs "
   ]
  },
  {
   "cell_type": "code",
   "execution_count": 5,
   "metadata": {
    "collapsed": false
   },
   "outputs": [
    {
     "data": {
      "text/plain": [
       "[['.Q..', '...Q', 'Q...', '..Q.'], ['..Q.', 'Q...', '...Q', '.Q..']]"
      ]
     },
     "execution_count": 5,
     "metadata": {},
     "output_type": "execute_result"
    }
   ],
   "source": [
    "sl = Solution()\n",
    "sl.generateQueen(4)"
   ]
  },
  {
   "cell_type": "code",
   "execution_count": null,
   "metadata": {
    "collapsed": true
   },
   "outputs": [],
   "source": []
  }
 ],
 "metadata": {
  "kernelspec": {
   "display_name": "Python 2",
   "language": "python",
   "name": "python2"
  },
  "language_info": {
   "codemirror_mode": {
    "name": "ipython",
    "version": 2
   },
   "file_extension": ".py",
   "mimetype": "text/x-python",
   "name": "python",
   "nbconvert_exporter": "python",
   "pygments_lexer": "ipython2",
   "version": "2.7.10"
  }
 },
 "nbformat": 4,
 "nbformat_minor": 2
}
