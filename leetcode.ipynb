{
 "cells": [
  {
   "cell_type": "code",
   "execution_count": 1,
   "metadata": {
    "collapsed": true
   },
   "outputs": [],
   "source": [
    "import itertools"
   ]
  },
  {
   "cell_type": "code",
   "execution_count": 2,
   "metadata": {
    "collapsed": true
   },
   "outputs": [],
   "source": [
    "def tuple_to_string(t):\n",
    "    return ''.join(t)"
   ]
  },
  {
   "cell_type": "code",
   "execution_count": 3,
   "metadata": {
    "collapsed": false
   },
   "outputs": [],
   "source": [
    "def perm_paren(n):\n",
    "    l = ['(', ')'] * n\n",
    "    return list(map(tuple_to_string, set(itertools.permutations(l))))"
   ]
  },
  {
   "cell_type": "code",
   "execution_count": 5,
   "metadata": {
    "collapsed": false
   },
   "outputs": [
    {
     "data": {
      "text/plain": [
       "[')(()', '()()', ')()(', '))((', '())(', '(())']"
      ]
     },
     "execution_count": 5,
     "metadata": {},
     "output_type": "execute_result"
    }
   ],
   "source": [
    "perm_paren(2)"
   ]
  },
  {
   "cell_type": "code",
   "execution_count": 6,
   "metadata": {
    "collapsed": false
   },
   "outputs": [],
   "source": [
    "tmp = []\n",
    "for x in tmp:\n",
    "    print x"
   ]
  },
  {
   "cell_type": "code",
   "execution_count": 7,
   "metadata": {
    "collapsed": true
   },
   "outputs": [],
   "source": [
    "# Generate Parenthesis\n",
    "def generateParenthesis(n):\n",
    "    if n == 0:\n",
    "        return []\n",
    "    elif n == 1:\n",
    "        return ['()']\n",
    "    else:\n",
    "        res = []\n",
    "        for x in generateParenthesis(n - 1):\n",
    "            if x == '()' * (n - 1):\n",
    "                res.append('()' * n)\n",
    "                res.append('(' + x + ')')\n",
    "            else:\n",
    "                res.append('()' + x)\n",
    "                res.append(x + '()')\n",
    "                res.append('(' + x + ')')\n",
    "        return res\n",
    "                    "
   ]
  },
  {
   "cell_type": "code",
   "execution_count": 8,
   "metadata": {
    "collapsed": false
   },
   "outputs": [
    {
     "data": {
      "text/plain": [
       "['()()()()',\n",
       " '(()()())',\n",
       " '()(()())',\n",
       " '(()())()',\n",
       " '((()()))',\n",
       " '()()(())',\n",
       " '()(())()',\n",
       " '(()(()))',\n",
       " '()(())()',\n",
       " '(())()()',\n",
       " '((())())',\n",
       " '()((()))',\n",
       " '((()))()',\n",
       " '(((())))']"
      ]
     },
     "execution_count": 8,
     "metadata": {},
     "output_type": "execute_result"
    }
   ],
   "source": [
    "generateParenthesis(4)"
   ]
  },
  {
   "cell_type": "code",
   "execution_count": 9,
   "metadata": {
    "collapsed": true
   },
   "outputs": [],
   "source": [
    "# N Queens\n",
    "class Solution(object):\n",
    "    def generateQueen(self, n):\n",
    "        res = []\n",
    "        self.dfs(0, n, res, [])\n",
    "        res2 = self.arr2queen(res, n)\n",
    "        return res2\n",
    "    \n",
    "    def dfs(self, row, n, res, past):\n",
    "        if row == n:\n",
    "            res.append(past)\n",
    "            return\n",
    "        for i in range(n):\n",
    "            ok = True # Test if a queen can be placed at (row, i)\n",
    "            for j in range(row):\n",
    "                p = past[j] # A queen has been placed at (j, p)\n",
    "                if row == j or i == p or abs(row - j) == abs(i - p): ok = False; break\n",
    "            if ok:\n",
    "                curr = past[:]; curr.append(i); self.dfs(row + 1, n, res, curr)\n",
    "    \n",
    "    def arr2queen(self, arr, n):\n",
    "        qs = []\n",
    "        for l in arr:\n",
    "            ls = []\n",
    "            for p in l: ls.append('.' * p + 'Q' + '.' * (n - p - 1))\n",
    "            qs.append(ls)\n",
    "        return qs "
   ]
  },
  {
   "cell_type": "code",
   "execution_count": 10,
   "metadata": {
    "collapsed": false
   },
   "outputs": [
    {
     "data": {
      "text/plain": [
       "[['.Q..', '...Q', 'Q...', '..Q.'], ['..Q.', 'Q...', '...Q', '.Q..']]"
      ]
     },
     "execution_count": 10,
     "metadata": {},
     "output_type": "execute_result"
    }
   ],
   "source": [
    "sl = Solution()\n",
    "sl.generateQueen(4)"
   ]
  },
  {
   "cell_type": "code",
   "execution_count": 11,
   "metadata": {
    "collapsed": true
   },
   "outputs": [],
   "source": [
    "l = list(range(3))"
   ]
  },
  {
   "cell_type": "code",
   "execution_count": 12,
   "metadata": {
    "collapsed": false
   },
   "outputs": [
    {
     "data": {
      "text/plain": [
       "2"
      ]
     },
     "execution_count": 12,
     "metadata": {},
     "output_type": "execute_result"
    }
   ],
   "source": [
    "l.index(2)"
   ]
  },
  {
   "cell_type": "code",
   "execution_count": 13,
   "metadata": {
    "collapsed": false
   },
   "outputs": [],
   "source": [
    "# Permutation Sequence\n",
    "\n",
    "class Solution2(object):\n",
    "    def getPermutation(self, n, k):\n",
    "        \"\"\"\n",
    "        :type n: int\n",
    "        :type k: int\n",
    "        :rtype: str\n",
    "        \"\"\"\n",
    "        l = list(range(1, n + 1))\n",
    "        result = []\n",
    "        self.dfs(l, result, \"\")\n",
    "        return result[k - 1]\n",
    "    \n",
    "    def dfs(self, left, result, curr):\n",
    "        if len(left) == 0:\n",
    "            result.append(curr)\n",
    "            return\n",
    "        for x in left:\n",
    "            tmp = list(left); del tmp[tmp.index(x)]\n",
    "            self.dfs(tmp, result, curr + str(x))\n",
    "        "
   ]
  },
  {
   "cell_type": "code",
   "execution_count": 14,
   "metadata": {
    "collapsed": false
   },
   "outputs": [],
   "source": [
    "sl2 = Solution2()"
   ]
  },
  {
   "cell_type": "code",
   "execution_count": 15,
   "metadata": {
    "collapsed": false
   },
   "outputs": [],
   "source": [
    "sl2.getPermutation(5, 15)\n",
    "table = [1, 2, 6, 24, 120, 720, 5040, 40320, 362880]"
   ]
  },
  {
   "cell_type": "code",
   "execution_count": 16,
   "metadata": {
    "collapsed": true
   },
   "outputs": [],
   "source": [
    "# Permutation Sequence\n",
    "\n",
    "class Solution3(object):\n",
    "    def getPermutation(self, n, k):\n",
    "        \"\"\"\n",
    "        :type n: int\n",
    "        :type k: int\n",
    "        :rtype: str\n",
    "        \"\"\"\n",
    "        l = list(range(1, n + 1))\n",
    "        result = []\n",
    "        self.dfs(l, result, \"\", k)\n",
    "        return result[k - 1]\n",
    "    \n",
    "    def dfs(self, left, result, curr, k):\n",
    "        if (len(result) == k):\n",
    "            return\n",
    "        if len(left) == 0:\n",
    "            result.append(curr)\n",
    "        for x in left:\n",
    "            tmp = list(left); del tmp[tmp.index(x)]\n",
    "            self.dfs(tmp, result, curr + str(x), k)"
   ]
  },
  {
   "cell_type": "code",
   "execution_count": 17,
   "metadata": {
    "collapsed": false
   },
   "outputs": [],
   "source": [
    "def factor(n):\n",
    "    if n == 0 or n == 1:\n",
    "        return 1\n",
    "    else:\n",
    "        return n * factor(n - 1)"
   ]
  },
  {
   "cell_type": "code",
   "execution_count": 18,
   "metadata": {
    "collapsed": false
   },
   "outputs": [],
   "source": [
    "table = [factor(x) for x in range(1, 10)]"
   ]
  },
  {
   "cell_type": "code",
   "execution_count": 19,
   "metadata": {
    "collapsed": false
   },
   "outputs": [
    {
     "data": {
      "text/plain": [
       "[1, 2, 6, 24, 120, 720, 5040, 40320, 362880]"
      ]
     },
     "execution_count": 19,
     "metadata": {},
     "output_type": "execute_result"
    }
   ],
   "source": [
    "table"
   ]
  },
  {
   "cell_type": "code",
   "execution_count": 20,
   "metadata": {
    "collapsed": false
   },
   "outputs": [],
   "source": [
    "# Permutation Sequence\n",
    "\n",
    "class Solution3(object):\n",
    "    table = [1, 1, 2, 6, 24, 120, 720, 5040, 40320]\n",
    "    def getPermutation(self, n, k):\n",
    "        \"\"\"\n",
    "        :type n: int\n",
    "        :type k: int\n",
    "        :rtype: str\n",
    "        \"\"\"\n",
    "        k -= 1\n",
    "        result = []\n",
    "        l = list(range(1, n + 1))\n",
    "        i = n - 1\n",
    "        while i != 0:\n",
    "            idx = k / self.table[i]\n",
    "            result.append(l[idx])\n",
    "            del l[idx]\n",
    "            k = k % self.table[i]\n",
    "            i -= 1\n",
    "        result.append(l[0])\n",
    "        return ''.join(str(e) for e in result)\n",
    "        \n",
    "        \n",
    "        "
   ]
  },
  {
   "cell_type": "code",
   "execution_count": 21,
   "metadata": {
    "collapsed": false
   },
   "outputs": [
    {
     "data": {
      "text/plain": [
       "'531679428'"
      ]
     },
     "execution_count": 21,
     "metadata": {},
     "output_type": "execute_result"
    }
   ],
   "source": [
    "sl  =Solution3()\n",
    "sl.getPermutation(9, 171669)"
   ]
  },
  {
   "cell_type": "code",
   "execution_count": null,
   "metadata": {
    "collapsed": true
   },
   "outputs": [],
   "source": []
  }
 ],
 "metadata": {
  "kernelspec": {
   "display_name": "Python 2",
   "language": "python",
   "name": "python2"
  },
  "language_info": {
   "codemirror_mode": {
    "name": "ipython",
    "version": 2
   },
   "file_extension": ".py",
   "mimetype": "text/x-python",
   "name": "python",
   "nbconvert_exporter": "python",
   "pygments_lexer": "ipython2",
   "version": "2.7.10"
  }
 },
 "nbformat": 4,
 "nbformat_minor": 2
}
